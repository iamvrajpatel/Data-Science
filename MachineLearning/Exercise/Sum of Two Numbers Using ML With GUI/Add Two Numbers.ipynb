{
 "cells": [
  {
   "cell_type": "markdown",
   "id": "8df2681c",
   "metadata": {},
   "source": [
    "## Importing Dataset Using Pandas"
   ]
  },
  {
   "cell_type": "code",
   "execution_count": 1,
   "id": "12c7e53a",
   "metadata": {},
   "outputs": [
    {
     "data": {
      "text/html": [
       "<div>\n",
       "<style scoped>\n",
       "    .dataframe tbody tr th:only-of-type {\n",
       "        vertical-align: middle;\n",
       "    }\n",
       "\n",
       "    .dataframe tbody tr th {\n",
       "        vertical-align: top;\n",
       "    }\n",
       "\n",
       "    .dataframe thead th {\n",
       "        text-align: right;\n",
       "    }\n",
       "</style>\n",
       "<table border=\"1\" class=\"dataframe\">\n",
       "  <thead>\n",
       "    <tr style=\"text-align: right;\">\n",
       "      <th></th>\n",
       "      <th>x</th>\n",
       "      <th>y</th>\n",
       "      <th>sum</th>\n",
       "    </tr>\n",
       "  </thead>\n",
       "  <tbody>\n",
       "    <tr>\n",
       "      <th>0</th>\n",
       "      <td>1.0</td>\n",
       "      <td>1.0</td>\n",
       "      <td>2.0</td>\n",
       "    </tr>\n",
       "    <tr>\n",
       "      <th>1</th>\n",
       "      <td>4.0</td>\n",
       "      <td>4.0</td>\n",
       "      <td>8.0</td>\n",
       "    </tr>\n",
       "    <tr>\n",
       "      <th>2</th>\n",
       "      <td>6.0</td>\n",
       "      <td>6.0</td>\n",
       "      <td>12.0</td>\n",
       "    </tr>\n",
       "    <tr>\n",
       "      <th>3</th>\n",
       "      <td>10.0</td>\n",
       "      <td>10.0</td>\n",
       "      <td>20.0</td>\n",
       "    </tr>\n",
       "    <tr>\n",
       "      <th>4</th>\n",
       "      <td>30.0</td>\n",
       "      <td>30.0</td>\n",
       "      <td>60.0</td>\n",
       "    </tr>\n",
       "  </tbody>\n",
       "</table>\n",
       "</div>"
      ],
      "text/plain": [
       "      x     y   sum\n",
       "0   1.0   1.0   2.0\n",
       "1   4.0   4.0   8.0\n",
       "2   6.0   6.0  12.0\n",
       "3  10.0  10.0  20.0\n",
       "4  30.0  30.0  60.0"
      ]
     },
     "execution_count": 1,
     "metadata": {},
     "output_type": "execute_result"
    }
   ],
   "source": [
    "import pandas as pd\n",
    "data = pd.read_csv(\"D:/Data Science/codebasics/add.csv\")\n",
    "data[:5]"
   ]
  },
  {
   "cell_type": "markdown",
   "id": "57ca68ca",
   "metadata": {},
   "source": [
    "## Plotting and Analysing the Graph"
   ]
  },
  {
   "cell_type": "code",
   "execution_count": 2,
   "id": "cf720826",
   "metadata": {},
   "outputs": [
    {
     "data": {
      "text/plain": [
       "<matplotlib.collections.PathCollection at 0x2021396dfd0>"
      ]
     },
     "execution_count": 2,
     "metadata": {},
     "output_type": "execute_result"
    },
    {
     "data": {
      "image/png": "[encoded data removed]",
      "text/plain": [
       "<Figure size 432x288 with 1 Axes>"
      ]
     },
     "metadata": {
      "needs_background": "light"
     },
     "output_type": "display_data"
    }
   ],
   "source": [
    "import matplotlib.pyplot as plt\n",
    "plt.scatter(data['x'], data['sum'])"
   ]
  },
  {
   "cell_type": "code",
   "execution_count": 3,
   "id": "8c5182b6",
   "metadata": {},
   "outputs": [
    {
     "data": {
      "text/plain": [
       "<matplotlib.collections.PathCollection at 0x20213a7aa90>"
      ]
     },
     "execution_count": 3,
     "metadata": {},
     "output_type": "execute_result"
    },
    {
     "data": {
      "image/png": "[encoded data removed]",
      "text/plain": [
       "<Figure size 432x288 with 1 Axes>"
      ]
     },
     "metadata": {
      "needs_background": "light"
     },
     "output_type": "display_data"
    }
   ],
   "source": [
    "plt.scatter(data['x'], data['sum'])"
   ]
  },
  {
   "cell_type": "markdown",
   "id": "82d94c86",
   "metadata": {},
   "source": [
    "## Dividing Dataset into two sets x and y"
   ]
  },
  {
   "cell_type": "code",
   "execution_count": 4,
   "id": "61d3964c",
   "metadata": {},
   "outputs": [],
   "source": [
    "x = data[['x', 'y']]\n",
    "y = data['sum']"
   ]
  },
  {
   "cell_type": "markdown",
   "id": "1f969148",
   "metadata": {},
   "source": [
    "## Splitting Dataset into Train and Test Sets"
   ]
  },
  {
   "cell_type": "code",
   "execution_count": 5,
   "id": "3d6e820b",
   "metadata": {},
   "outputs": [
    {
     "data": {
      "text/html": [
       "<div>\n",
       "<style scoped>\n",
       "    .dataframe tbody tr th:only-of-type {\n",
       "        vertical-align: middle;\n",
       "    }\n",
       "\n",
       "    .dataframe tbody tr th {\n",
       "        vertical-align: top;\n",
       "    }\n",
       "\n",
       "    .dataframe thead th {\n",
       "        text-align: right;\n",
       "    }\n",
       "</style>\n",
       "<table border=\"1\" class=\"dataframe\">\n",
       "  <thead>\n",
       "    <tr style=\"text-align: right;\">\n",
       "      <th></th>\n",
       "      <th>x</th>\n",
       "      <th>y</th>\n",
       "    </tr>\n",
       "  </thead>\n",
       "  <tbody>\n",
       "    <tr>\n",
       "      <th>5</th>\n",
       "      <td>23.0</td>\n",
       "      <td>43.0</td>\n",
       "    </tr>\n",
       "    <tr>\n",
       "      <th>20</th>\n",
       "      <td>45.7</td>\n",
       "      <td>123.7</td>\n",
       "    </tr>\n",
       "    <tr>\n",
       "      <th>11</th>\n",
       "      <td>300.0</td>\n",
       "      <td>34.0</td>\n",
       "    </tr>\n",
       "    <tr>\n",
       "      <th>3</th>\n",
       "      <td>10.0</td>\n",
       "      <td>10.0</td>\n",
       "    </tr>\n",
       "    <tr>\n",
       "      <th>4</th>\n",
       "      <td>30.0</td>\n",
       "      <td>30.0</td>\n",
       "    </tr>\n",
       "  </tbody>\n",
       "</table>\n",
       "</div>"
      ],
      "text/plain": [
       "        x      y\n",
       "5    23.0   43.0\n",
       "20   45.7  123.7\n",
       "11  300.0   34.0\n",
       "3    10.0   10.0\n",
       "4    30.0   30.0"
      ]
     },
     "execution_count": 5,
     "metadata": {},
     "output_type": "execute_result"
    }
   ],
   "source": [
    "from sklearn.model_selection import train_test_split\n",
    "xtrain, xtest, ytrain, ytest = train_test_split(x, y, test_size=0.2, random_state=42)\n",
    "xtrain[:5]"
   ]
  },
  {
   "cell_type": "markdown",
   "id": "027f09d4",
   "metadata": {},
   "source": [
    "## Implimanting LinearRegression() model"
   ]
  },
  {
   "cell_type": "code",
   "execution_count": 6,
   "id": "dcd4b469",
   "metadata": {},
   "outputs": [
    {
     "data": {
      "text/plain": [
       "LinearRegression()"
      ]
     },
     "execution_count": 6,
     "metadata": {},
     "output_type": "execute_result"
    }
   ],
   "source": [
    "from sklearn.linear_model import LinearRegression\n",
    "model = LinearRegression()\n",
    "model.fit(xtrain, ytrain)"
   ]
  },
  {
   "cell_type": "code",
   "execution_count": 7,
   "id": "82b39f9b",
   "metadata": {},
   "outputs": [
    {
     "data": {
      "text/plain": [
       "1.0"
      ]
     },
     "execution_count": 7,
     "metadata": {},
     "output_type": "execute_result"
    }
   ],
   "source": [
    "model.score(xtest, ytest)      # Due to very small dataset"
   ]
  },
  {
   "cell_type": "code",
   "execution_count": 8,
   "id": "80cd9826",
   "metadata": {},
   "outputs": [],
   "source": [
    "ypred = model.predict(xtest)"
   ]
  },
  {
   "cell_type": "code",
   "execution_count": 9,
   "id": "3495bd05",
   "metadata": {},
   "outputs": [
    {
     "data": {
      "text/html": [
       "<div>\n",
       "<style scoped>\n",
       "    .dataframe tbody tr th:only-of-type {\n",
       "        vertical-align: middle;\n",
       "    }\n",
       "\n",
       "    .dataframe tbody tr th {\n",
       "        vertical-align: top;\n",
       "    }\n",
       "\n",
       "    .dataframe thead th {\n",
       "        text-align: right;\n",
       "    }\n",
       "</style>\n",
       "<table border=\"1\" class=\"dataframe\">\n",
       "  <thead>\n",
       "    <tr style=\"text-align: right;\">\n",
       "      <th></th>\n",
       "      <th>Actual</th>\n",
       "      <th>Predicted</th>\n",
       "    </tr>\n",
       "  </thead>\n",
       "  <tbody>\n",
       "    <tr>\n",
       "      <th>0</th>\n",
       "      <td>2.0</td>\n",
       "      <td>2.0</td>\n",
       "    </tr>\n",
       "    <tr>\n",
       "      <th>13</th>\n",
       "      <td>112.9</td>\n",
       "      <td>112.9</td>\n",
       "    </tr>\n",
       "    <tr>\n",
       "      <th>8</th>\n",
       "      <td>68.0</td>\n",
       "      <td>68.0</td>\n",
       "    </tr>\n",
       "    <tr>\n",
       "      <th>1</th>\n",
       "      <td>8.0</td>\n",
       "      <td>8.0</td>\n",
       "    </tr>\n",
       "    <tr>\n",
       "      <th>15</th>\n",
       "      <td>900.0</td>\n",
       "      <td>900.0</td>\n",
       "    </tr>\n",
       "  </tbody>\n",
       "</table>\n",
       "</div>"
      ],
      "text/plain": [
       "    Actual  Predicted\n",
       "0      2.0        2.0\n",
       "13   112.9      112.9\n",
       "8     68.0       68.0\n",
       "1      8.0        8.0\n",
       "15   900.0      900.0"
      ]
     },
     "execution_count": 9,
     "metadata": {},
     "output_type": "execute_result"
    }
   ],
   "source": [
    "df = pd.DataFrame({'Actual': ytest, 'Predicted': ytest})\n",
    "df"
   ]
  },
  {
   "cell_type": "code",
   "execution_count": 10,
   "id": "8769ca70",
   "metadata": {},
   "outputs": [
    {
     "data": {
      "text/plain": [
       "array([24.])"
      ]
     },
     "execution_count": 10,
     "metadata": {},
     "output_type": "execute_result"
    }
   ],
   "source": [
    "model.predict([[12,12]])"
   ]
  },
  {
   "cell_type": "code",
   "execution_count": 11,
   "id": "0356b409",
   "metadata": {},
   "outputs": [
    {
     "data": {
      "text/plain": [
       "array([246.])"
      ]
     },
     "execution_count": 11,
     "metadata": {},
     "output_type": "execute_result"
    }
   ],
   "source": [
    "model.predict([[123,123]])"
   ]
  },
  {
   "cell_type": "markdown",
   "id": "85d39007",
   "metadata": {},
   "source": [
    "## Creating Module for Trained model"
   ]
  },
  {
   "cell_type": "code",
   "execution_count": 12,
   "id": "ca2da191",
   "metadata": {},
   "outputs": [
    {
     "data": {
      "text/plain": [
       "array([180.])"
      ]
     },
     "execution_count": 12,
     "metadata": {},
     "output_type": "execute_result"
    }
   ],
   "source": [
    "import joblib\n",
    "joblib.dump(model, 'addition')\n",
    "sum = joblib.load('addition')\n",
    "sum.predict([[80, 100]])"
   ]
  },
  {
   "cell_type": "markdown",
   "id": "d2a97fe1",
   "metadata": {},
   "source": [
    "## GUI Part of Given Problem\n",
    "### Enter Two Numbers And Get the Sum of The Two"
   ]
  },
  {
   "cell_type": "code",
   "execution_count": 28,
   "id": "1722f3b6",
   "metadata": {},
   "outputs": [],
   "source": [
    "import tkinter as tk\n",
    "import joblib"
   ]
  },
  {
   "cell_type": "code",
   "execution_count": 29,
   "id": "7c4e0dbb",
   "metadata": {},
   "outputs": [],
   "source": [
    "master = tk.Tk()"
   ]
  },
  {
   "cell_type": "code",
   "execution_count": 30,
   "id": "42eea3fb",
   "metadata": {},
   "outputs": [
    {
     "name": "stdout",
     "output_type": "stream",
     "text": [
      "Sum is :  [24.]\n"
     ]
    }
   ],
   "source": [
    "def addition():\n",
    "    p1 = float(e1.get())\n",
    "    p2 = float(e2.get())\n",
    "    \n",
    "    model = joblib.load('addition')\n",
    "    result = model.predict([[p1,p2]])\n",
    "    \n",
    "    tk.Label(master, text=\"Sum is : \").grid(row=4)\n",
    "    tk.Label(master, text = result).grid(row=4, column=1)\n",
    "    print(\"Sum is : \", result)\n",
    "\n",
    "master.title(\"Addition of two Numbers using ML\")\n",
    "label = tk.Label(master, text = \"Addition of two numerbs using ML\", bg='black', fg='white').grid(row=0)\n",
    "\n",
    "tk.Label(master, text=\"Enter First Number : \").grid(row=1)\n",
    "tk.Label(master, text=\"Enter Second Number : \").grid(row=2)\n",
    "\n",
    "e1 = tk.Entry(master)\n",
    "e1.grid(row=1, column=1)\n",
    "e2 = tk.Entry(master)\n",
    "e2.grid(row=2, column=1)\n",
    "\n",
    "tk.Button(master, text=\"Predict\", command=addition).grid()\n",
    "\n",
    "tk.mainloop()"
   ]
  }
 ],
 "metadata": {
  "kernelspec": {
   "display_name": "Python 3 (ipykernel)",
   "language": "python",
   "name": "python3"
  },
  "language_info": {
   "codemirror_mode": {
    "name": "ipython",
    "version": 3
   },
   "file_extension": ".py",
   "mimetype": "text/x-python",
   "name": "python",
   "nbconvert_exporter": "python",
   "pygments_lexer": "ipython3",
   "version": "3.9.7"
  }
 },
 "nbformat": 4,
 "nbformat_minor": 5
}
