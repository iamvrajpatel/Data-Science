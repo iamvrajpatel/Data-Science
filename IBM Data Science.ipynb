{
 "cells": [
  {
   "cell_type": "markdown",
   "id": "cdd4b221",
   "metadata": {},
   "source": [
    "### Exercise 2 - Create a markdown cell with the title of the notebook. (1 pt)"
   ]
  },
  {
   "cell_type": "markdown",
   "id": "25d47eae",
   "metadata": {},
   "source": [
    "Notebook Title = IBM Data Science"
   ]
  },
  {
   "cell_type": "markdown",
   "id": "37f3c352",
   "metadata": {},
   "source": [
    "### Exercise 3 - Create a markdown cell for an introduction. (1 pt)"
   ]
  },
  {
   "cell_type": "markdown",
   "id": "b31580b6",
   "metadata": {},
   "source": [
    "# Introduction\n",
    "\n",
    "Welcome to Exercise 3 of our notebook! In this exercise, we will explore various concepts and tasks related to [insert topic]. Whether you're a beginner or an experienced user, this exercise is designed to help you sharpen your skills and gain a deeper understanding of [specific aspects]. Let's dive in and enjoy the learning journey!"
   ]
  },
  {
   "cell_type": "markdown",
   "id": "eeb061ef",
   "metadata": {},
   "source": [
    "### Exercise 4 - Create a markdown cell to list data science languages. (3 pts)"
   ]
  },
  {
   "cell_type": "markdown",
   "id": "03985c43",
   "metadata": {},
   "source": [
    "# Data Science Languages\n",
    "\n",
    "In the field of data science, various programming languages are commonly used to analyze, visualize, and manipulate data. Here are some popular data science languages:\n",
    "\n",
    "1. **Python**: Widely used for its simplicity, extensive libraries (such as NumPy, Pandas, and Scikit-learn), and versatility in data analysis and machine learning.\n",
    "\n",
    "2. **R**: Known for its statistical computing capabilities, R is a powerful language for data visualization, statistical modeling, and analysis.\n",
    "\n",
    "3. **SQL (Structured Query Language)**: Essential for database management, SQL is used to retrieve and manipulate data in relational databases.\n",
    "\n",
    "4. **Julia**: A high-performance language for technical computing, Julia is gaining popularity in data science for its speed and ease of use.\n",
    "\n",
    "5. **Scala**: Often used in conjunction with Apache Spark, Scala is a general-purpose programming language that facilitates distributed computing for big data processing.\n",
    "\n",
    "6. **Java**: Widely employed in big data technologies such as Apache Hadoop, Java is known for its portability and scalability.\n",
    "\n",
    "These languages offer diverse capabilities, and the choice depends on the specific requirements of a data science project."
   ]
  },
  {
   "cell_type": "markdown",
   "id": "bb3e2ffd",
   "metadata": {},
   "source": [
    "### Exercise 5 - Create a markdown cell to list data science libraries. (3 pts)"
   ]
  },
  {
   "cell_type": "markdown",
   "id": "b0dab4ab",
   "metadata": {},
   "source": [
    "# Data Science Libraries\n",
    "\n",
    "In data science, libraries play a crucial role in providing tools and functions for various tasks. Here are some popular data science libraries in Python:\n",
    "\n",
    "1. **NumPy**: Fundamental package for numerical computing in Python, providing support for large, multi-dimensional arrays and matrices.\n",
    "\n",
    "2. **Pandas**: Data manipulation and analysis library that offers data structures like DataFrames, making it easy to work with structured data.\n",
    "\n",
    "3. **Matplotlib**: A 2D plotting library for creating static, interactive, and animated visualizations in Python.\n",
    "\n",
    "4. **Seaborn**: Built on top of Matplotlib, Seaborn provides a high-level interface for drawing attractive and informative statistical graphics.\n",
    "\n",
    "5. **Scikit-learn**: Simple and efficient tools for data mining and data analysis, particularly focused on machine learning algorithms.\n",
    "\n",
    "6. **TensorFlow**: An open-source machine learning framework developed by Google for building and training deep learning models.\n",
    "\n",
    "7. **PyTorch**: An open-source deep learning library that facilitates dynamic computational graphs, making it popular among researchers and practitioners.\n",
    "\n",
    "8. **SciPy**: A library for scientific and technical computing that builds on NumPy and provides additional functionality.\n",
    "\n",
    "9. **Statsmodels**: A library for estimating and testing statistical models, including linear regression, time-series analysis, and more.\n",
    "\n",
    "10. **NLTK (Natural Language Toolkit)**: A library for working with human language data, widely used for text processing and analysis.\n",
    "\n",
    "These libraries form the foundation for many data science projects, enabling efficient and powerful data analysis and machine learning workflows in Python.\n"
   ]
  },
  {
   "cell_type": "markdown",
   "id": "00e72ece",
   "metadata": {},
   "source": [
    "### Exercise 6 - Create a markdown cell with a table of Data Science tools. (3 pts)"
   ]
  },
  {
   "cell_type": "markdown",
   "id": "8edc3acf",
   "metadata": {},
   "source": [
    "# Data Science Tools\n",
    "\n",
    "| Tool                | Description                                           |\n",
    "|---------------------|-------------------------------------------------------|\n",
    "| **Jupyter Notebooks**| Interactive, web-based notebooks for data exploration, analysis, and visualization.                        |\n",
    "| **RStudio**          | Integrated development environment (IDE) for R, facilitating statistical computing and graphics.           |\n",
    "| **Apache Hadoop**    | Framework for distributed storage and processing of large data sets.                                    |\n",
    "| **Apache Spark**     | Open-source distributed computing system for big data processing and analysis.                          |\n",
    "| **Tableau**          | Data visualization tool that helps in creating interactive and shareable dashboards.                      |\n",
    "| **Power BI**         | Business analytics service by Microsoft for creating interactive reports and dashboards.                 |\n",
    "| **KNIME**            | Open-source platform for data analytics, reporting, and integration.                                    |\n",
    "| **Git**              | Version control system for tracking changes in source code during collaborative projects.                 |\n",
    "| **Docker**           | Platform for automating the deployment of applications in lightweight, portable containers.             |\n",
    "| **Anaconda**         | Distribution of Python and R programming languages for data science and machine learning tasks.          |\n",
    "\n",
    "These tools cover a range of functionalities, from data analysis and visualization to distributed computing and version control, making them essential for various stages of a data science project.\n"
   ]
  },
  {
   "cell_type": "markdown",
   "id": "368b4018",
   "metadata": {},
   "source": [
    "### Exercise 7 - Create a markdown cell introducing arithmetic expression examples. (1 pt)"
   ]
  },
  {
   "cell_type": "markdown",
   "id": "91f0e850",
   "metadata": {},
   "source": [
    "# Arithmetic Expression Examples\n",
    "\n",
    "In this section, we'll explore some basic arithmetic expressions commonly used in mathematical and programming contexts. Understanding these expressions is fundamental for data science and programming tasks. Let's delve into a few examples to reinforce our understanding of arithmetic operations such as addition, subtraction, multiplication, and division.\n"
   ]
  },
  {
   "cell_type": "markdown",
   "id": "30bca618",
   "metadata": {},
   "source": [
    "### Exercise 8 - Create a code cell to multiply and add numbers. (2 pts)"
   ]
  },
  {
   "cell_type": "code",
   "execution_count": 1,
   "id": "6e0e8481",
   "metadata": {},
   "outputs": [
    {
     "name": "stdout",
     "output_type": "stream",
     "text": [
      "Multiplication Result: 15\n",
      "Addition Result: 8\n"
     ]
    }
   ],
   "source": [
    "# Multiply and Add Numbers\n",
    "# Example values for demonstration\n",
    "number1 = 5\n",
    "number2 = 3\n",
    "\n",
    "# Multiplication\n",
    "result_multiply = number1 * number2\n",
    "print(f\"Multiplication Result: {result_multiply}\")\n",
    "\n",
    "# Addition\n",
    "result_add = number1 + number2\n",
    "print(f\"Addition Result: {result_add}\")\n"
   ]
  },
  {
   "cell_type": "markdown",
   "id": "2f935f2f",
   "metadata": {},
   "source": [
    "### Exercise 9 - Create a code cell to convert minutes to hours. (2 pts)"
   ]
  },
  {
   "cell_type": "code",
   "execution_count": 2,
   "id": "b7fc97a2",
   "metadata": {},
   "outputs": [
    {
     "name": "stdout",
     "output_type": "stream",
     "text": [
      "120 minutes is equal to 2.0 hours.\n"
     ]
    }
   ],
   "source": [
    "# Convert Minutes to Hours\n",
    "# Example value for demonstration\n",
    "minutes = 120\n",
    "\n",
    "# Conversion\n",
    "hours = minutes / 60\n",
    "\n",
    "# Display the result\n",
    "print(f\"{minutes} minutes is equal to {hours} hours.\")\n"
   ]
  },
  {
   "cell_type": "markdown",
   "id": "ff2768c9",
   "metadata": {},
   "source": [
    "### Exercise 10 -Insert a markdown cell to list Objectives. (3 pts)"
   ]
  },
  {
   "cell_type": "markdown",
   "id": "2bcf2ecd",
   "metadata": {},
   "source": [
    "# Objectives\n",
    "\n",
    "In this exercise, our primary objectives are to:\n",
    "\n",
    "1. **Explore Arithmetic Expressions:** Understand and practice basic arithmetic operations such as addition, multiplication, and division.\n",
    "\n",
    "2. **Demonstrate Code Execution:** Learn how to create and execute code cells to perform calculations in a programming environment.\n",
    "\n",
    "3. **Apply Mathematical Concepts:** Use Python to perform conversions, such as converting minutes to hours, reinforcing the application of mathematical concepts in programming.\n",
    "\n",
    "By the end of this exercise, you should feel more comfortable with basic arithmetic operations and be able to apply them to real-world scenarios within a coding environment.\n"
   ]
  },
  {
   "cell_type": "markdown",
   "id": "5ba9d994",
   "metadata": {},
   "source": [
    "### Exercise 11 - Create a markdown cell to indicate the Author’s name. (2 pts)"
   ]
  },
  {
   "cell_type": "markdown",
   "id": "3c220aae",
   "metadata": {},
   "source": [
    "# Author\n",
    "This exercise was created by Vraj Patel."
   ]
  },
  {
   "cell_type": "markdown",
   "id": "e5a27e93",
   "metadata": {},
   "source": [
    "### Exercise 12 - Share your notebook through GitHub (3 pts)"
   ]
  },
  {
   "cell_type": "markdown",
   "id": "ad2746c8",
   "metadata": {},
   "source": [
    "https://github.com/iamvrajpatel/"
   ]
  },
  {
   "cell_type": "markdown",
   "id": "7413fdbc",
   "metadata": {},
   "source": [
    "### Exercise 13 - Take a screenshot of the first page of the notebook. (1 pt)"
   ]
  },
  {
   "cell_type": "code",
   "execution_count": null,
   "id": "83f76e62",
   "metadata": {},
   "outputs": [],
   "source": []
  }
 ],
 "metadata": {
  "kernelspec": {
   "display_name": "Python 3 (ipykernel)",
   "language": "python",
   "name": "python3"
  },
  "language_info": {
   "codemirror_mode": {
    "name": "ipython",
    "version": 3
   },
   "file_extension": ".py",
   "mimetype": "text/x-python",
   "name": "python",
   "nbconvert_exporter": "python",
   "pygments_lexer": "ipython3",
   "version": "3.11.3"
  }
 },
 "nbformat": 4,
 "nbformat_minor": 5
}
